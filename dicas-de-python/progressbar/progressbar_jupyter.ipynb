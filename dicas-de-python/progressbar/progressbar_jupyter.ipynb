{
 "cells": [
  {
   "cell_type": "code",
   "execution_count": 1,
   "metadata": {},
   "outputs": [],
   "source": [
    "import sys\n",
    "if hasattr(sys.modules[\"__main__\"], \"get_ipython\"):\n",
    "    from tqdm import notebook as tqdm\n",
    "else:\n",
    "    import tqdm\n",
    "from time import sleep"
   ]
  },
  {
   "cell_type": "code",
   "execution_count": 4,
   "metadata": {},
   "outputs": [
    {
     "data": {
      "application/vnd.jupyter.widget-view+json": {
       "model_id": "2069f54f533c475eaaa6e07736d00189",
       "version_major": 2,
       "version_minor": 0
      },
      "text/plain": [
       "  0%|          | 0/100 [00:00<?, ?it/s]"
      ]
     },
     "metadata": {},
     "output_type": "display_data"
    }
   ],
   "source": [
    "n = 0\n",
    "for i in tqdm.trange(100):\n",
    "    n += 1\n",
    "    sleep(0.01)"
   ]
  },
  {
   "cell_type": "code",
   "execution_count": null,
   "metadata": {},
   "outputs": [],
   "source": [
    "url = \"https://www.python.org/ftp/python/3.9.0/Python-3.9.0.tgz\"\n",
    "import httpx\n",
    "with httpx.stream(\"GET\", url) as response:\n",
    "    total = int(response.headers[\"Content-Length\"])\n",
    "    with tqdm.tqdm(total=total) as progress:\n",
    "        for chunk in response.iter_bytes():\n",
    "            progress.update(len(chunk))"
   ]
  }
 ],
 "metadata": {
  "kernelspec": {
   "display_name": "Python 3",
   "language": "python",
   "name": "python3"
  },
  "language_info": {
   "codemirror_mode": {
    "name": "ipython",
    "version": 3
   },
   "file_extension": ".py",
   "mimetype": "text/x-python",
   "name": "python",
   "nbconvert_exporter": "python",
   "pygments_lexer": "ipython3",
   "version": "3.8.2"
  }
 },
 "nbformat": 4,
 "nbformat_minor": 4
}
